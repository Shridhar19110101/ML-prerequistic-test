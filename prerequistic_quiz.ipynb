{
 "cells": [
  {
   "cell_type": "markdown",
   "metadata": {},
   "source": [
    "1. How many multiplications and additions do you need to perform a matrix multiplication between a (n, k) and (k, m) matrix? Explain.\n",
    "\n",
    "Ans. Let say C is our final matrix. C will have dimension of n*m. Now, to compute each element in C we will need a row from A and a column from B which has lenght k. For each element we will do k mutiplications and k-1 additions. So, in total, we will do n*m*k multiplications and n*m*(k-1) additions.\n"
   ]
  },
  {
   "cell_type": "markdown",
   "metadata": {},
   "source": [
    "2. Write Python code to multiply the above two matrices. Solve using list of lists and then use numpy. Compare the timing of both solutions. Which one is faster? Why?   \n",
    "\n",
    "Ans. If you run below code, you will se multiplicatipn using numpy arrays is much faster than list multiplications.\n",
    "In fact it is 1000 times faster. \n",
    "Matrix multiplication with NumPy is faster than with a list of lists because NumPy is implemented in C, while a list of lists is a Python data structure. This means that NumPy operations are executed in compiled code, which is generally faster than Python code. In addition, NumPy stores matrices in a contiguous block of memory, which makes it more efficient to perform operations on the data because it can be accessed more quickly by the CPU.\n",
    "\n",
    "Another reason that NumPy matrix multiplication is faster is that NumPy includes optimized implementations of many common mathematical operations, including matrix multiplication. These optimized implementations are written in C and are much faster than the equivalent Python code."
   ]
  },
  {
   "cell_type": "code",
   "execution_count": 56,
   "metadata": {},
   "outputs": [
    {
     "name": "stdout",
     "output_type": "stream",
     "text": [
      "12 ms ± 165 µs per loop (mean ± std. dev. of 5 runs, 100 loops each)\n",
      "333 µs ± 754 ns per loop (mean ± std. dev. of 5 runs, 100 loops each)\n"
     ]
    }
   ],
   "source": [
    "\n",
    "n=30\n",
    "k=67\n",
    "m=50\n",
    "A=[]\n",
    "for i in range (n):\n",
    "    row=[]\n",
    "    for j in range(k):\n",
    "        row.append(j)\n",
    "    A.append(row)\n",
    "\n",
    "B=[]\n",
    "for i in range (k):\n",
    "    row=[]\n",
    "    for j in range(m):\n",
    "        row.append(j)\n",
    "    B.append(row)\n",
    "\n",
    "# Using list multiplication\n",
    "def list_multiply(A,B):\n",
    "    C=[]\n",
    "    for i in range (n):\n",
    "        row=[]\n",
    "        for j in range(m):\n",
    "            c=0\n",
    "            for l in range(k):\n",
    "                c+=(A[i][l]*B[l][j])\n",
    "            row.append(c)\n",
    "        C.append(row)\n",
    "\n",
    "def numply_multi(A,B):\n",
    "    a=np.array(A)\n",
    "    b=np.array(B)\n",
    "    C=np.matmul(a,b)\n",
    "\n",
    "\n",
    "# Measure the time taken to multiply the matrices using a list of lists\n",
    "%timeit -n 100 -r 5 list_multiply(A,B) \n",
    "\n",
    "# Measure the time taken to multiply the matrices using numpy \n",
    "%timeit -n 100 -r 5 numply_multi(A,B) \n",
    "\n"
   ]
  },
  {
   "cell_type": "markdown",
   "metadata": {},
   "source": [
    "3. Finding the highest element in a list requires one pass of the array. Finding the second highest element requires 2 passes of the the array. Using this method, what is the time complexity of finding the median of the array? Can you suggest a better method? Can you implement both these methods in Python and compare against numpy.median routine in terms of time?\n",
    "\n",
    "Ans. The time complexity of finding the median of an array using the method you described would be O(n^2) because you need to make n/2 passes of the array to find the median, and each pass has a time complexity of O(n).\n",
    "\n",
    "A better method for finding the median of an array would be to first sort the array and then return the element at index n/2 (if the array has an odd number of elements) or the average of the elements at indices n/2 and n/2 - 1 (if the array has an even number of elements). This method has a time complexity of O(n log n) because the time complexity of sorting an array is O(n log n).\n",
    "\n",
    "In terms of time, numpy.median is way faster than both of above method. You can test it in below code.\n",
    "\n"
   ]
  },
  {
   "cell_type": "code",
   "execution_count": 59,
   "metadata": {},
   "outputs": [
    {
     "name": "stdout",
     "output_type": "stream",
     "text": [
      "3.2 ms ± 67.4 µs per loop (mean ± std. dev. of 5 runs, 100 loops each)\n",
      "3.15 ms ± 53 µs per loop (mean ± std. dev. of 5 runs, 100 loops each)\n",
      "105 µs ± 6.33 µs per loop (mean ± std. dev. of 5 runs, 100 loops each)\n"
     ]
    }
   ],
   "source": [
    "\n",
    "# Find the median of an array by making n/2 passes of the array\n",
    "def find_median_brute(arr):\n",
    "    arr = sorted(arr)\n",
    "    if len(arr) % 2 == 1:\n",
    "        return arr[len(arr) // 2]\n",
    "    else:\n",
    "        return (arr[len(arr) // 2] + arr[len(arr) // 2 - 1]) / 2\n",
    "\n",
    " # Find the median of an array by sorting it and then returning the element at index n/2 \n",
    " # (if the array has an odd number of elements) or the average of the elements at indices n/2 and n/2 - 1 \n",
    " # (if the array has an even number of elements)\n",
    "def find_median_sorted(arr):\n",
    "    arr = sorted(arr)\n",
    "    if len(arr) % 2 == 1:\n",
    "        return arr[len(arr) // 2]\n",
    "    else:\n",
    "        return (arr[len(arr) // 2] + arr[len(arr) // 2 - 1]) / 2\n",
    "\n",
    "# using numpy.median\n",
    "def numpy_median(arr):\n",
    "    return np.median(arr)\n",
    "\n",
    "# testing over big array\n",
    "a= np.random.rand(10000)\n",
    "\n",
    "%timeit -n 100 -r 5 find_median_brute(a) \n",
    "\n",
    "%timeit -n 100 -r 5 find_median_sorted(a) \n",
    "\n",
    "%timeit -n 100 -r 5 numpy_median(a) \n",
    "\n"
   ]
  },
  {
   "cell_type": "markdown",
   "metadata": {},
   "source": [
    "4. What is the gradient of the following function with respect to x and y?$$ x^2y+y^3sin(x)$$ \n",
    "Ans. i) gradient with respect to y:$$ x^2+3y^2sin(x)$$   \n",
    "    ii) gradient with respect to x:$$ 2xy+y^3cos(x)$$"
   ]
  },
  {
   "cell_type": "markdown",
   "metadata": {},
   "source": [
    "5. Use JAX to confirm the gradient evaluated by your method matches the analytical solution corresponding to a few random values of x and y"
   ]
  },
  {
   "cell_type": "code",
   "execution_count": null,
   "metadata": {},
   "outputs": [],
   "source": [
    "import math\n",
    "import jax.numpy as jnp\n",
    "import jax\n",
    "import numpy as np\n",
    "\n",
    "def f(x,y):\n",
    "    return x**2*y+y**3*jnp.sin(x)\n",
    "\n",
    "def df_dy(x,y):\n",
    "    return x**2+3*y**2*math.sin(x)\n",
    "\n",
    "def df_dx(x,y):\n",
    "    return 2*x*y+y**3*math.cos(x)\n",
    "\n",
    "# Evaluate the gradient at a few random points\n",
    "for i in range(5):\n",
    "    x = np.random.uniform(-5, 5)\n",
    "    y = np.random.uniform(-5, 5)\n",
    "    print(\"my method:\",df_dx(x,y),df_dy(x,y))\n",
    "    print(\"answer using JAX:\",jax.grad(f, argnums=(0, 1))(x,y))\n"
   ]
  },
  {
   "cell_type": "markdown",
   "metadata": {},
   "source": [
    "6. Use sympy to confirm that you obtain the same gradient analytically."
   ]
  },
  {
   "cell_type": "code",
   "execution_count": null,
   "metadata": {},
   "outputs": [],
   "source": [
    "import math\n",
    "import sympy\n",
    "\n",
    "# def f(x,y):\n",
    "#     return x**2*y + y**3*sympy.sin(x)\n",
    "x, y = sympy.symbols('x y')\n",
    "f = x**2*y + y**3*sympy.sin(x)\n",
    "g = sympy.Matrix([f]).jacobian([x, y])\n",
    "g_numpy = sympy.lambdify((x, y), g, 'numpy')\n",
    "def df_dy(x,y):\n",
    "    return x**2+3*y**2*math.sin(x)\n",
    "\n",
    "def df_dx(x,y):\n",
    "    return 2*x*y+y**3*math.cos(x)\n",
    "\n",
    "# Evaluate the gradient at a few random points\n",
    "for i in range(5):\n",
    "    x = np.random.uniform(-3, 3)\n",
    "    y = np.random.uniform(-3, 3)\n",
    "    print(\"my method:\",df_dx(x,y),df_dy(x,y))\n",
    "    print(\"answer using sympy:\",g_numpy(x,y))"
   ]
  },
  {
   "cell_type": "markdown",
   "metadata": {},
   "source": [
    "7. Create a Python nested dictionary to represent hierarchical information. We want to store record of students and their marks."
   ]
  },
  {
   "cell_type": "code",
   "execution_count": 11,
   "metadata": {},
   "outputs": [],
   "source": [
    "records={\n",
    "    \"2022\": {\n",
    "            \"Branch 1\":{\n",
    "                        \"Roll number 1\":{\"name\":\"xyz\",\"marks\":{\"MATHS\":100,\"ENGLLISH\":70,}},\n",
    "                        \"Roll number 2\":{},\n",
    "                        },\n",
    "            \"Branch 2\":{},\n",
    "            },\n",
    "    \"2023\": {\n",
    "            \"Branch 1\":{},\n",
    "            \"Branch 2\":{},\n",
    "            },\n",
    "    \"2024\": {\"Branch 1\":{},\n",
    "             \"Branch 2\":{},\n",
    "            },\n",
    "    \"2025\": {\"Branch 1\":{},\n",
    "             \"Branch 2\":{},\n",
    "            },\n",
    "}"
   ]
  },
  {
   "cell_type": "markdown",
   "metadata": {},
   "source": [
    "8. Store the same information using Python classes. We have an overall database which is a list of year objects. Each year contains a list of branches. Each branch contains a list of students. Each student has some properties like name, roll number and has marks in some subjects."
   ]
  },
  {
   "cell_type": "code",
   "execution_count": 16,
   "metadata": {},
   "outputs": [
    {
     "name": "stdout",
     "output_type": "stream",
     "text": [
      "[<__main__.Year object at 0x7fbc09dad280>]\n"
     ]
    }
   ],
   "source": [
    "class Student:\n",
    "    def __init__(self,name,roll_number,grades={}):\n",
    "        self.name=name\n",
    "        self.roll_number=roll_number\n",
    "        self.grades=grades\n",
    "    \n",
    "    def add_marks(self,subject,marks):\n",
    "        self.grades[subject]=marks\n",
    "\n",
    "class Branch:\n",
    "    def __init__(self,branch_name,students=[]):\n",
    "        self.branch_name=branch_name\n",
    "        self.students=students\n",
    "    def add_student(self,student):\n",
    "        self.students.append(student)\n",
    "\n",
    "class Year:\n",
    "    def __init__(self,year,branches=[]):\n",
    "        self.year=year\n",
    "        self.branches=branches\n",
    "    def add_branch(self,branch):\n",
    "        self.branches.append(branch)\n",
    "\n",
    "\n",
    "# storing information\n",
    "Database=[]\n",
    "y2022=Year(\"2022\")\n",
    "branch1=Branch(\"branch 1\")\n",
    "xyz=Student(\"xyz\",\"1\",{\"MATHS\":100,\"ENGLLISH\":70,})\n",
    "branch1.add_student(xyz)\n",
    "y2022.add_branch(branch1)\n",
    "Database.append(y2022)\n",
    "print(Database)\n",
    "\n"
   ]
  },
  {
   "cell_type": "markdown",
   "metadata": {},
   "source": [
    "9. Using matplotlib plot the following functions on the domain: x = 0.5 to 100.0 in steps of 0.5."
   ]
  },
  {
   "cell_type": "code",
   "execution_count": null,
   "metadata": {},
   "outputs": [],
   "source": [
    "import matplotlib.pyplot as plt\n",
    "import numpy as np\n",
    "import math\n",
    "\n",
    "# 1. y=x\n",
    "x = np.arange(0.5, 100.0, 0.5)\n",
    "y = x\n",
    "plt.plot(x, y)\n",
    "plt.show()\n",
    "\n",
    "# y= x^2\n",
    "y = x**2\n",
    "plt.plot(x, y)\n",
    "plt.show()\n",
    "\n",
    "# y=x^3/100\n",
    "y = (x**3)/100\n",
    "plt.plot(x, y)\n",
    "plt.show()\n",
    "\n",
    "# y=sin(x)\n",
    "def f(x):\n",
    "    return math.sin(x)\n",
    "y = np.vectorize(f)\n",
    "plt.plot(x, y(x))\n",
    "plt.show()\n",
    "\n",
    "# y=sin(x)/x\n",
    "def f(x):\n",
    "    return math.sin(x)/x\n",
    "y = np.vectorize(f)\n",
    "plt.plot(x, y(x))\n",
    "plt.show()\n",
    "\n",
    "# y=log(x)\n",
    "def f(x):\n",
    "    return math.log(x)\n",
    "y = np.vectorize(f)\n",
    "plt.plot(x, y(x))\n",
    "plt.show()\n",
    "\n",
    "#y=e^x\n",
    "def f(x):\n",
    "    return math.exp(x)\n",
    "y = np.vectorize(f)\n",
    "plt.plot(x, y(x))\n",
    "plt.show()"
   ]
  },
  {
   "cell_type": "markdown",
   "metadata": {},
   "source": [
    "10. Using numpy generate a matrix of size 20X5 containing random numbers drawn uniformly from the range of 1 to 2. Using Pandas create a dataframe out of this matrix. Name the columns of the dataframe as “a”, “b”, “c”, “d”, “e”. Find the column with the highest standard deviation. Find the row with the lowest mean."
   ]
  },
  {
   "cell_type": "code",
   "execution_count": 37,
   "metadata": {},
   "outputs": [
    {
     "name": "stdout",
     "output_type": "stream",
     "text": [
      "column with the highest standard deviation is: d\n",
      "row with the lowest mean is: 9\n"
     ]
    }
   ],
   "source": [
    "import numpy as np\n",
    "import pandas as pd\n",
    "\n",
    "matrix = np.random.uniform(1, 2, size=(20, 5))\n",
    "df = pd.DataFrame(matrix, columns=[\"a\", \"b\", \"c\", \"d\", \"e\"])\n",
    "print(\"column with the highest standard deviation is:\", df.std().idxmax())\n",
    "print(\"row with the lowest mean is:\", df.mean(axis=1).idxmin())"
   ]
  },
  {
   "cell_type": "markdown",
   "metadata": {},
   "source": [
    "11. Add a new column to the dataframe called “f” which is the sum of the columns “a”, “b”, “c”, “d”, “e”. Create another column called “g”. The value in the column “g” should be “LT8” if the value in the column “f” is less than 8 and “GT8” otherwise. Find the number of rows in the dataframe where the value in the column “g” is “LT8”. Find the standard deviation of the column “f” for the rows where the value in the column “g” is “LT8” and “GT8” respectively."
   ]
  },
  {
   "cell_type": "code",
   "execution_count": 39,
   "metadata": {},
   "outputs": [
    {
     "name": "stdout",
     "output_type": "stream",
     "text": [
      "number of rows with column g value=LT8: 13\n",
      "Standard deviation of column 'f' for rows where column 'g' is 'LT8': 0.3886576394425924\n",
      "Standard deviation of column 'f' for rows where column 'g' is 'GT8': 0.29585053427510544\n"
     ]
    }
   ],
   "source": [
    "df['f'] = df[['a', 'b', 'c', 'd', 'e']].sum(axis=1)\n",
    "df['g'] = df['f'].apply(lambda x: 'LT8' if x < 8 else 'GT8')\n",
    "\n",
    "print(\"number of rows with column g value=LT8:\", len(df[df['g']=='LT8']))\n",
    "print(\"Standard deviation of column 'f' for rows where column 'g' is 'LT8':\",df[df['g']=='LT8']['f'].std())\n",
    "print(\"Standard deviation of column 'f' for rows where column 'g' is 'GT8':\",df[df['g']=='GT8']['f'].std())"
   ]
  },
  {
   "cell_type": "markdown",
   "metadata": {},
   "source": [
    "12. Write a small piece of code to explain broadcasting in numpy.\n",
    "Ans.\n",
    "Broadcasting is a powerful feature of NumPy that allows arithmetic operations to be performed on arrays of different sizes. It works by \"broadcasting\" the smaller array across the larger array so that they have compatible shapes, and then performing the arithmetic operation element-wise on the broadcasted arrays.\n",
    "Look at below example: The output of this code will be:\n",
    "\n",
    "[[11 22 33 44]   \n",
    "[15 26 37 48]   \n",
    "[19 30 41 52]]   \n",
    "\n",
    "As you can see, the 1D array b was broadcasted across the 2D array a so that they had compatible shapes, and then the element-wise addition was performed on the broadcasted arrays.\n"
   ]
  },
  {
   "cell_type": "code",
   "execution_count": 40,
   "metadata": {},
   "outputs": [
    {
     "name": "stdout",
     "output_type": "stream",
     "text": [
      "[[11 22 33 44]\n",
      " [15 26 37 48]\n",
      " [19 30 41 52]]\n"
     ]
    }
   ],
   "source": [
    "import numpy as np\n",
    "\n",
    "# Create a 2D array with shape (3, 4)\n",
    "a = np.array([[1, 2, 3, 4],\n",
    "              [5, 6, 7, 8],\n",
    "              [9, 10, 11, 12]])\n",
    "\n",
    "# Create a 1D array with shape (4,)\n",
    "b = np.array([10, 20, 30, 40])\n",
    "\n",
    "# Add the arrays using broadcasting\n",
    "c = a + b\n",
    "\n",
    "print(c)\n"
   ]
  },
  {
   "cell_type": "markdown",
   "metadata": {},
   "source": [
    "13. Write a function to compute the argmin of a numpy array. The function should take a numpy array as input and return the index of the minimum element. You can use the np.argmin function to verify your solution."
   ]
  },
  {
   "cell_type": "code",
   "execution_count": 4,
   "metadata": {},
   "outputs": [
    {
     "name": "stdout",
     "output_type": "stream",
     "text": [
      "My answer: 23\n",
      "actual answer: 23\n"
     ]
    }
   ],
   "source": [
    "import numpy as np\n",
    "\n",
    "def arg_min(arr):\n",
    "    array=arr.flatten()\n",
    "    min_index = 0\n",
    "    for i in range(1, len(array)):\n",
    "        if array[i] < array[min_index]:\n",
    "            min_index = i\n",
    "    # actual_index = np.unravel_index(min_index, arr.shape)\n",
    "    return min_index\n",
    "# Test the function with a random NumPy array\n",
    "array = np.random.randint(0, 10, size=(5,6))\n",
    "print(\"My answer:\",arg_min(array))\n",
    "print(\"actual answer:\",np.argmin(array))"
   ]
  }
 ],
 "metadata": {
  "interpreter": {
   "hash": "2f2701380da7dbc8a9e3e35098c8e4e697441ea02a22787af4e1af41b0c84f23"
  },
  "kernelspec": {
   "display_name": "Python 3.9.13 ('base')",
   "language": "python",
   "name": "python3"
  },
  "language_info": {
   "codemirror_mode": {
    "name": "ipython",
    "version": 3
   },
   "file_extension": ".py",
   "mimetype": "text/x-python",
   "name": "python",
   "nbconvert_exporter": "python",
   "pygments_lexer": "ipython3",
   "version": "3.9.13"
  },
  "orig_nbformat": 4
 },
 "nbformat": 4,
 "nbformat_minor": 2
}
